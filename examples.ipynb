{
 "cells": [
  {
   "cell_type": "code",
   "execution_count": 1,
   "metadata": {},
   "outputs": [],
   "source": [
    "import factosynth\n",
    "from factosynth import *\n",
    "\n",
    "import itertools, functools\n",
    "from termcolor import cprint, colored"
   ]
  },
  {
   "cell_type": "code",
   "execution_count": 2,
   "metadata": {},
   "outputs": [],
   "source": [
    "# the power operator is expansive to synthesize, since it is not a standard bitvector operator.\n",
    "if '^' in Operation.operators:\n",
    "    del Operation.operators['^']"
   ]
  },
  {
   "attachments": {},
   "cell_type": "markdown",
   "metadata": {},
   "source": [
    "## Example: `Ratio`"
   ]
  },
  {
   "attachments": {},
   "cell_type": "markdown",
   "metadata": {},
   "source": [
    "The ground truth (inspired by the [steel plate recipe](https://wiki.factorio.com/Steel_plate) in Factorio) is:\n",
    "> ```c\n",
    "> Ratio(INPUT , OUTPUT) {\n",
    ">     INPUT -> iron / 5 as steel -> OUTPUT\n",
    "> }\n",
    "> ```"
   ]
  },
  {
   "cell_type": "code",
   "execution_count": 3,
   "metadata": {},
   "outputs": [],
   "source": [
    "signals = ['iron', 'steel']\n",
    "def register(*args, default=0, **kwargs):\n",
    "    ans = Register.fromkeys(signals,default) # makes sure that keys are ordered the same way\n",
    "    ans.update(*args, **kwargs)\n",
    "    return ans"
   ]
  },
  {
   "cell_type": "code",
   "execution_count": 4,
   "metadata": {},
   "outputs": [
    {
     "data": {
      "text/plain": [
       "({'iron': count:in, 'steel': count:steel!1}, {'iron': 0, 'steel': count:in/5})"
      ]
     },
     "execution_count": 4,
     "metadata": {},
     "output_type": "execute_result"
    }
   ],
   "source": [
    "# specification\n",
    "p_in, = z3.Consts(f'count:in', Int32Sort)\n",
    "spec = (\n",
    "    register(iron=p_in, default=None), # INPUT\n",
    "    register(steel=p_in/5),            # OUTPUT\n",
    ")\n",
    "\n",
    "spec"
   ]
  },
  {
   "cell_type": "code",
   "execution_count": 7,
   "metadata": {},
   "outputs": [
    {
     "data": {
      "text/plain": [
       "'{const!35,iron,steel,each} {*,/,+,-,%,<<,>>,AND,OR,XOR} {const!40,iron,steel,each} as {iron,steel,each}'"
      ]
     },
     "execution_count": 7,
     "metadata": {},
     "output_type": "execute_result"
    }
   ],
   "source": [
    "# sketch\n",
    "combinator_sketch = ArithmeticControlBehavior(signals=signals)\n",
    "\n",
    "combinator_sketch.to_cnide()"
   ]
  },
  {
   "attachments": {},
   "cell_type": "markdown",
   "metadata": {},
   "source": [
    "### example-driven"
   ]
  },
  {
   "cell_type": "code",
   "execution_count": 25,
   "metadata": {},
   "outputs": [],
   "source": [
    "def solve(combinator_sketch, examples, *, verbose=True):\n",
    "    \"\"\"Synthesize from examples.\"\"\"\n",
    "    solver = z3.Solver()\n",
    "    solver.add(combinator_sketch.valid)\n",
    "    for example in examples:\n",
    "        INPUT, OUTPUT = example\n",
    "        ANS = combinator_sketch(INPUT)\n",
    "        solver.add(ANS==OUTPUT)\n",
    "\n",
    "    check = solver.check()\n",
    "    if check == z3.unsat:\n",
    "        if verbose: cprint(\"Cannot synthesize circuit: UNSAT\", color='red')\n",
    "        return None\n",
    "    assert check == z3.sat, f\"solution is {check}, unsat_core={solver.unsat_core()}\"\n",
    "    model = solver.model()\n",
    "    # if verbose: print(model)\n",
    "\n",
    "    combinator_sol = combinator_sketch.eval(model)\n",
    "    if verbose:\n",
    "        try: print(combinator_sol.to_cnide())\n",
    "        except: print(\"unresolved combinator...\")\n",
    "    return combinator_sol"
   ]
  },
  {
   "cell_type": "code",
   "execution_count": 27,
   "metadata": {},
   "outputs": [
    {
     "name": "stdout",
     "output_type": "stream",
     "text": [
      "each / 5 as steel\n"
     ]
    }
   ],
   "source": [
    "# synthesize from examples\n",
    "examples = [\n",
    "    # (INPUT, OUTPUT),\n",
    "    (register(iron=5 ), register(steel=1)),\n",
    "    (register(iron=20), register(steel=4)),\n",
    "    (register(iron=35), register(steel=7)),\n",
    "]\n",
    "combinator_sol = solve(combinator_sketch, examples)"
   ]
  },
  {
   "cell_type": "code",
   "execution_count": 44,
   "metadata": {},
   "outputs": [],
   "source": [
    "def verify(combinator_sol, spec, *, verbose=True):\n",
    "    \"\"\"return None if sol complies to spec, returns counter-example otherwise.\"\"\"\n",
    "    solver2 = z3.Solver()\n",
    "    INPUT, OUTPUT = spec\n",
    "    ANS = combinator_sol(INPUT)\n",
    "    guarantee = ANS==OUTPUT\n",
    "    solver2.add(z3.Not(guarantee)) # trying to find counterexamples\n",
    "    check = solver2.check()\n",
    "    if check == z3.unsat:\n",
    "        if verbose: cprint(\"Synthesized circuit complies with spec!\", color='green')\n",
    "        return None\n",
    "    assert check == z3.sat, f\"solution is {check}, unsat_core={solver2.unsat_core()}\"\n",
    "    model2 = solver2.model()\n",
    "    if verbose: cprint(\"Synthesized circuit does not comply with spec! Counterexample is:\", color='red')\n",
    "    # print(model2)\n",
    "    counterexample = tuple(\n",
    "        Register((signal,model2.eval(count,model_completion=True)) for signal,count in reg.items())\n",
    "        for reg in spec\n",
    "    )\n",
    "    INPUT, OUTPUT = counterexample\n",
    "    ANS = combinator_sol(INPUT)\n",
    "    if verbose:\n",
    "        print(f\"\"\"INPUT  = {INPUT.simplify(bv2int=True)}\"\"\")\n",
    "        print(f\"\"\"OUTPUT = {ANS.simplify(bv2int=True)}{colored(f\" ≠ {OUTPUT.simplify(bv2int=True)}\", color='red')}\"\"\")\n",
    "    return counterexample"
   ]
  },
  {
   "cell_type": "code",
   "execution_count": 30,
   "metadata": {},
   "outputs": [
    {
     "name": "stdout",
     "output_type": "stream",
     "text": [
      "\u001b[31mSynthesized circuit does not comply with spec! Counterexample is:\u001b[0m\n",
      "INPUT  = {'iron': -830996486, 'steel': -671088640}\n",
      "OUTPUT = {'iron': 0, 'steel': -300417025}\u001b[31m ≠ {'iron': 0, 'steel': -166199297}\u001b[0m\n"
     ]
    }
   ],
   "source": [
    "# verify spec\n",
    "counterexample = verify(combinator_sol, spec)"
   ]
  },
  {
   "attachments": {},
   "cell_type": "markdown",
   "metadata": {},
   "source": [
    "### spec + counter-example driven"
   ]
  },
  {
   "cell_type": "code",
   "execution_count": 31,
   "metadata": {},
   "outputs": [],
   "source": [
    "def synthesize(combinator_sketch, spec, examples=None, *, verbose=True):\n",
    "    \"\"\"Synthesize from examples, then generate counterexamples, until no new counter-examples exist.\"\"\"\n",
    "    if examples is None: examples = []\n",
    "    while True:\n",
    "        combinator_sol = solve(combinator_sketch, examples, verbose=verbose)\n",
    "        if combinator_sol is None:\n",
    "            return None\n",
    "        \n",
    "        counterexample = verify(combinator_sol, spec, verbose=False)\n",
    "        if counterexample is None:\n",
    "            if verbose: cprint(\"No more counterexamples!\", color='green')\n",
    "            return combinator_sol\n",
    "        else:\n",
    "            if verbose: cprint(f\"{tuple(reg.simplify(bv2int=True) for reg in counterexample)}\", color='yellow')\n",
    "            examples.append(counterexample)"
   ]
  },
  {
   "cell_type": "code",
   "execution_count": 58,
   "metadata": {},
   "outputs": [
    {
     "name": "stdout",
     "output_type": "stream",
     "text": [
      "const!35 * each as iron\n",
      "\u001b[33m({'iron': -1259974404, 'steel': 0}, {'iron': 0, 'steel': -251994880})\u001b[0m\n",
      "1894440192 XOR -2146435072 as steel\n",
      "\u001b[33m({'iron': 26404, 'steel': 0}, {'iron': 0, 'steel': 5280})\u001b[0m\n",
      "each / 5 as steel\n",
      "\u001b[33m({'iron': -5, 'steel': -5}, {'iron': 0, 'steel': -1})\u001b[0m\n",
      "iron / 5 as steel\n",
      "\u001b[32mNo more counterexamples!\u001b[0m\n"
     ]
    }
   ],
   "source": [
    "# synthesize from spec\n",
    "examples = [\n",
    "    # (INPUT, OUTPUT),\n",
    "]\n",
    "combinator_sol = synthesize(combinator_sketch, spec, examples)"
   ]
  },
  {
   "attachments": {},
   "cell_type": "markdown",
   "metadata": {},
   "source": [
    "## Example: `Whitelist` (holes)"
   ]
  },
  {
   "attachments": {},
   "cell_type": "markdown",
   "metadata": {},
   "source": [
    "The ground truth is:\n",
    "> ```c\n",
    "> Whitelist(INPUT,MASK,OUTPUT) {\n",
    ">     // set the filter to -2^31 for **each** signal on MASK\n",
    ">     MASK -> 0 - each as each -> MASK_1B\n",
    ">     MASK -> each + -2147483648 as each -> MASK_1B\n",
    ">     \n",
    ">     // filter the 31 least significant bits\n",
    ">     INPUT -> each & 2147483647 as each -> INPUT_31L\n",
    ">     (INPUT_31L,MASK_1B) -> each < 0 then each -> OUTPUT\n",
    ">     \n",
    ">     // correct the 1 most significant bit\n",
    ">     INPUT -> each >> 31 as each -> INPUT_1B\n",
    ">     (INPUT_1B,MASK_1B) -> each = -2147483648 then each -> OUTPUT\n",
    "> }\n",
    "> ```"
   ]
  },
  {
   "attachments": {},
   "cell_type": "markdown",
   "metadata": {},
   "source": [
    "We assume here that the combinator behaviors are unknown. This is roughly:\n",
    "> ```c\n",
    "> Whitelist(INPUT,MASK,OUTPUT) {\n",
    ">     MASK                 ->  ?first ?op ?second as ?output     ->  MASK_1B\n",
    ">     MASK                 ->  ?first ?op ?second as ?output     ->  MASK_1B\n",
    ">     INPUT                ->  ?first ?op ?second as ?output     ->  INPUT_31L\n",
    ">     INPUT                ->  ?first ?op ?second as ?output     ->  INPUT_1B\n",
    ">     (INPUT_31L,MASK_1B)  ->  ?first ?cmp ?second then ?output  ->  OUTPUT\n",
    ">     (INPUT_1B,MASK_1B)   ->  ?first ?cmp ?second then ?output  ->  OUTPUT\n",
    "> }\n",
    "> ```"
   ]
  },
  {
   "cell_type": "code",
   "execution_count": 39,
   "metadata": {},
   "outputs": [
    {
     "name": "stdout",
     "output_type": "stream",
     "text": [
      "\u001b[34mUpper bound of possible combinator behaviors (to numeric constant):\u001b[0m\n",
      "Arithmetic combinator: 40\n",
      "Decider combinator:    108\n",
      "Whitelist sketch:      2.99e+10\n"
     ]
    }
   ],
   "source": [
    "# estimates the number of programs\n",
    "prod = lambda values: functools.reduce(lambda a,b: a*b, values, 1)\n",
    "\n",
    "arithmetic_hole = ArithmeticControlBehavior(signals=[])\n",
    "arithmetic_combinations = prod([\n",
    "    len(arithmetic_hole.first_signal),\n",
    "    len(arithmetic_hole.operation.choice),\n",
    "    len(arithmetic_hole.second_signal),\n",
    "    len(arithmetic_hole.output_signal),\n",
    "])\n",
    "\n",
    "decider_hole = DeciderControlBehavior(signals=[])\n",
    "decider_combinations = prod([\n",
    "    len(decider_hole.first_signal),\n",
    "    len(decider_hole.comparator.choice),\n",
    "    len(decider_hole.second_signal),\n",
    "    len(decider_hole.output_signal),\n",
    "    2, # decider_hole.copy_count_from_input is a z3.BoolRef\n",
    "])\n",
    "\n",
    "cprint(\"Upper bound of possible combinator behaviors (to numeric constant):\", color='blue')\n",
    "print(f\"Arithmetic combinator: {arithmetic_combinations}\")\n",
    "print(f\"Decider combinator:    {decider_combinations}\")\n",
    "print(f\"Whitelist sketch:      {arithmetic_combinations**4 * decider_combinations**2:.2e}\")"
   ]
  },
  {
   "cell_type": "code",
   "execution_count": 59,
   "metadata": {},
   "outputs": [],
   "source": [
    "signals = [] # we don't want to use any specific signal in the sketch\n",
    "# def register(*args, **kwargs):\n",
    "#     ans = Register.fromkeys(signals,0) # makes sure that keys are ordered the same way\n",
    "#     ans.update(*args, **kwargs)\n",
    "#     return ans"
   ]
  },
  {
   "cell_type": "code",
   "execution_count": 61,
   "metadata": {},
   "outputs": [],
   "source": [
    "# specification\n",
    "p_in, p_mask = params = z3.Consts(f'count:in count:mask', Int32Sort)\n",
    "spec = (\n",
    "    Register(X=p_in),                       # INPUT\n",
    "    Register(X=p_mask),                     # MASK\n",
    "    Register(X=z3.If(p_mask!=0, p_in, 0)),  # OUTPUT\n",
    ")"
   ]
  },
  {
   "cell_type": "code",
   "execution_count": 93,
   "metadata": {},
   "outputs": [],
   "source": [
    "# sketch\n",
    "\n",
    "cnide_sketch = \"\"\"\n",
    "Whitelist(INPUT,MASK,OUTPUT) {{\n",
    "    MASK -> {} -> MASK_1B\n",
    "    MASK -> {} -> MASK_1B\n",
    "    INPUT -> {} -> INPUT_31L\n",
    "    INPUT -> {} -> INPUT_1B\n",
    "    (INPUT_31L,MASK_1B) -> {} -> OUTPUT\n",
    "    (INPUT_1B,MASK_1B) -> {} -> OUTPUT\n",
    "}}\n",
    "\"\"\".strip('\\n')\n",
    "\n",
    "def circuit(INPUT, MASK, *, solver=None, combinators):\n",
    "    MASK_1B = Register.sum(\n",
    "        combinators[0](MASK, solver=solver),\n",
    "        combinators[1](MASK, solver=solver),\n",
    "    )\n",
    "    # if solver is not None:\n",
    "    #     MASK_1B, ans = Register.fromkeys(MASK_1B), MASK_1B\n",
    "    #     solver.add(MASK_1B==ans)\n",
    "    INPUT_31L = Register.sum(\n",
    "        combinators[2](INPUT, solver=solver),\n",
    "    )\n",
    "    # if solver is not None:\n",
    "    #     INPUT_31L, ans = Register.fromkeys(INPUT_31L), INPUT_31L\n",
    "    #     solver.add(INPUT_31L==ans)\n",
    "    INPUT_1B = Register.sum(\n",
    "        combinators[3](INPUT, solver=solver),\n",
    "    )\n",
    "    # if solver is not None:\n",
    "    #     INPUT_1B, ans = Register.fromkeys(INPUT_1B), INPUT_1B\n",
    "    #     solver.add(INPUT_1B==ans)\n",
    "    OUTPUT = Register.sum(\n",
    "        combinators[4](INPUT_31L+MASK_1B, solver=solver),\n",
    "        combinators[5](INPUT_1B+MASK_1B, solver=solver),\n",
    "    )\n",
    "    return OUTPUT\n",
    "\n",
    "combinators_sketch = [ # solution\n",
    "    ArithmeticControlBehavior(0,'-',EACH,EACH),\n",
    "    ArithmeticControlBehavior(EACH,'+',-2**31,EACH),\n",
    "    ArithmeticControlBehavior(EACH,'AND',2**31-1,EACH),\n",
    "    ArithmeticControlBehavior(EACH,'>>',31,EACH),\n",
    "    DeciderControlBehavior(EACH,'<',0,EACH,True),\n",
    "    DeciderControlBehavior(EACH,'=',-2**31,EACH,True),\n",
    "]\n",
    "# combinators_sketch = [ # full sketch (wire connections are still known)\n",
    "#     ArithmeticControlBehavior(signals=[]),\n",
    "#     ArithmeticControlBehavior(signals=[]),\n",
    "#     ArithmeticControlBehavior(signals=[]),\n",
    "#     ArithmeticControlBehavior(signals=[]),\n",
    "#     DeciderControlBehavior(signals=[]),\n",
    "#     DeciderControlBehavior(signals=[]),\n",
    "# ]\n",
    "# combinators_sketch = [ # consts missing\n",
    "#     ArithmeticControlBehavior(z3.FreshConst(Int32Sort),'-',EACH,EACH),\n",
    "#     ArithmeticControlBehavior(EACH,'+',z3.FreshConst(Int32Sort),EACH),\n",
    "#     ArithmeticControlBehavior(EACH,'AND',z3.FreshConst(Int32Sort),EACH),\n",
    "#     ArithmeticControlBehavior(EACH,'>>',z3.FreshConst(Int32Sort),EACH),\n",
    "#     DeciderControlBehavior(EACH,'<',z3.FreshConst(Int32Sort),EACH,True),\n",
    "#     DeciderControlBehavior(EACH,'=',z3.FreshConst(Int32Sort),EACH,True),\n",
    "# ]\n",
    "# combinators_sketch = [ # solution with one hole\n",
    "#     ArithmeticControlBehavior(0,'-',EACH,EACH),\n",
    "#     ArithmeticControlBehavior(EACH,'+',-2**31,EACH),\n",
    "#     ArithmeticControlBehavior(EACH,signals=[]), # hole (BUG: couldn't remove first_signal)\n",
    "#     ArithmeticControlBehavior(EACH,'>>',31,EACH),\n",
    "#     DeciderControlBehavior(EACH,'<',0,EACH,True),\n",
    "#     DeciderControlBehavior(EACH,'=',-2**31,EACH,True),\n",
    "# ]\n",
    "# combinators_sketch = [ # solution with one hole\n",
    "#     ArithmeticControlBehavior(0,operation='-',EACH,EACH),\n",
    "#     ArithmeticControlBehavior(EACH,operation='+',z3.FreshConst(Int32Sort),output_signal=EACH,signals=[]),\n",
    "#     ArithmeticControlBehavior(operation='AND',signals=[]), # hole (BUG: couldn't remove first_signal)\n",
    "#     ArithmeticControlBehavior(EACH,operation='>>',31,EACH),\n",
    "#     DeciderControlBehavior(EACH,comparator='<',0,EACH,True),\n",
    "#     DeciderControlBehavior(EACH,comparator='=',-2**31,EACH,True),\n",
    "# ]\n",
    "# combinators_sketch[0] = ArithmeticControlBehavior(operation='-',signals=[])\n",
    "# combinators_sketch[1] = ArithmeticControlBehavior(operation='+',signals=[])\n",
    "# combinators_sketch[2] = ArithmeticControlBehavior(operation='AND',signals=[])\n",
    "# combinators_sketch[3] = ArithmeticControlBehavior(operation='>>',signals=[])\n",
    "# combinators_sketch[4] = DeciderControlBehavior(comparator='<',signals=[])\n",
    "# combinators_sketch[5] = DeciderControlBehavior(comparator='=',signals=[])\n",
    "\n",
    "# combinators_sketch[2] = ArithmeticControlBehavior(signals=[])\n",
    "# combinators_sketch[4] = DeciderControlBehavior(signals=[])\n",
    "\n",
    "combinators_sketch[2] = ArithmeticControlBehavior(EACH,signals=[]) # hole (BUG: couldn't remove first_signal)\n",
    "combinators_sketch[4] = DeciderControlBehavior(EACH,signals=[]) # hole (BUG: couldn't remove first_signal)"
   ]
  },
  {
   "cell_type": "code",
   "execution_count": 94,
   "metadata": {},
   "outputs": [],
   "source": [
    "examples = [\n",
    "    # (INPUT, MASK, OUTPUT),\n",
    "    (Register(A=50,B=40,C=30,D=-10,E=-20), Register(A=1,C=7,E=-3), Register(A=50,C=30,E=-20)),\n",
    "]"
   ]
  },
  {
   "attachments": {},
   "cell_type": "markdown",
   "metadata": {},
   "source": [
    "### example-driven"
   ]
  },
  {
   "cell_type": "code",
   "execution_count": 95,
   "metadata": {},
   "outputs": [
    {
     "name": "stdout",
     "output_type": "stream",
     "text": [
      "Whitelist(INPUT,MASK,OUTPUT) {\n",
      "    MASK -> 0 - each as each -> MASK_1B\n",
      "    MASK -> each + -2147483648 as each -> MASK_1B\n",
      "    INPUT -> each AND 2147483647 as each -> INPUT_31L\n",
      "    INPUT -> each >> 31 as each -> INPUT_1B\n",
      "    (INPUT_31L,MASK_1B) -> each ≤ -2 then each -> OUTPUT\n",
      "    (INPUT_1B,MASK_1B) -> each = -2147483648 then each -> OUTPUT\n",
      "}\n"
     ]
    }
   ],
   "source": [
    "# solve from examples\n",
    "\n",
    "solver = z3.Solver()\n",
    "solver.set('threads', 4)\n",
    "solver.set(unsat_core=True)\n",
    "for combinator in combinators_sketch: solver.add(combinator.valid)\n",
    "for example in examples:\n",
    "    INPUT, MASK, OUTPUT = example\n",
    "    ANS = circuit(INPUT, MASK, combinators=combinators_sketch,\n",
    "        solver=solver,\n",
    "    )\n",
    "    solver.add(ANS==OUTPUT)\n",
    "\n",
    "check = solver.check()\n",
    "assert check == z3.sat, f\"solution is {check}, unsat_core={solver.unsat_core()}\"\n",
    "model = solver.model()\n",
    "# print(model)\n",
    "\n",
    "combinators_sol = [combinator.eval(model) for combinator in combinators_sketch]\n",
    "print(cnide_sketch.format(*[combinator.to_cnide() for combinator in combinators_sol]))"
   ]
  },
  {
   "cell_type": "code",
   "execution_count": 97,
   "metadata": {},
   "outputs": [],
   "source": [
    "# sanity check\n",
    "for example in examples:\n",
    "    INPUT, MASK, OUTPUT = example\n",
    "    ANS = circuit(INPUT, MASK, combinators=combinators_sol)\n",
    "    solver = z3.Solver()\n",
    "    solver.add(ANS != OUTPUT)\n",
    "    check = solver.check()\n",
    "    assert check == z3.unsat"
   ]
  },
  {
   "cell_type": "code",
   "execution_count": 98,
   "metadata": {},
   "outputs": [
    {
     "name": "stdout",
     "output_type": "stream",
     "text": [
      "\u001b[31mSynthesized circuit does not comply with spec! Counterexample is:\u001b[0m\n",
      "INPUT  = {'X': -1}\n",
      "MASK   = {'X': 707412947}\n",
      "OUTPUT = {'X': 0}\u001b[31m ≠ {'X': -1}\u001b[0m\n"
     ]
    }
   ],
   "source": [
    "# verify spec\n",
    "\n",
    "solver2 = z3.Solver()\n",
    "INPUT, MASK, OUTPUT = spec\n",
    "ANS = circuit(INPUT, MASK, combinators=combinators_sol)\n",
    "guarantee = ANS==OUTPUT\n",
    "solver2.add(z3.Not(guarantee)) # trying to find counterexamples\n",
    "check = solver2.check()\n",
    "if check == z3.unsat:\n",
    "    cprint(\"Synthesized circuit complies with spec!\", color='green')\n",
    "elif check == z3.sat:\n",
    "    model2 = solver2.model()\n",
    "    cprint(\"Synthesized circuit does not comply with spec! Counterexample is:\", color='red')\n",
    "    # print(model2)\n",
    "    counterexample = tuple(\n",
    "        Register((signal,model2.eval(count,model_completion=True)) for signal,count in reg.items())\n",
    "        for reg in spec\n",
    "    )\n",
    "    INPUT, MASK, OUTPUT = counterexample\n",
    "    ANS = circuit(INPUT, MASK, combinators=combinators_sol)\n",
    "    print(f\"\"\"INPUT  = {INPUT.simplify(bv2int=True)}\"\"\")\n",
    "    print(f\"\"\"MASK   = {MASK.simplify(bv2int=True)}\"\"\")\n",
    "    print(f\"\"\"OUTPUT = {ANS.simplify(bv2int=True)}{colored(f\" ≠ {OUTPUT.simplify(bv2int=True)}\", color='red')}\"\"\")"
   ]
  },
  {
   "attachments": {},
   "cell_type": "markdown",
   "metadata": {},
   "source": [
    "### spec + counter-example guided"
   ]
  },
  {
   "cell_type": "code",
   "execution_count": 99,
   "metadata": {},
   "outputs": [],
   "source": [
    "examples = [\n",
    "    # (INPUT, MASK, OUTPUT),\n",
    "]"
   ]
  },
  {
   "cell_type": "code",
   "execution_count": 100,
   "metadata": {},
   "outputs": [
    {
     "name": "stdout",
     "output_type": "stream",
     "text": [
      "Whitelist(INPUT,MASK,OUTPUT) {\n",
      "    MASK -> 0 - each as each -> MASK_1B\n",
      "    MASK -> each + -2147483648 as each -> MASK_1B\n",
      "    INPUT -> each << const!5119 as each -> INPUT_31L\n",
      "    INPUT -> each >> 31 as each -> INPUT_1B\n",
      "    (INPUT_31L,MASK_1B) -> each = const!5130 then 1? as everything -> OUTPUT\n",
      "    (INPUT_1B,MASK_1B) -> each = -2147483648 then each -> OUTPUT\n",
      "}\n",
      "\u001b[33mINPUT  = {'X': -910796376}\u001b[0m\n",
      "\u001b[33mMASK   = {'X': -1849688064}\u001b[0m\n",
      "\u001b[33mOUTPUT = {'X': -910796376}\u001b[0m\n",
      "Whitelist(INPUT,MASK,OUTPUT) {\n",
      "    MASK -> 0 - each as each -> MASK_1B\n",
      "    MASK -> each + -2147483648 as each -> MASK_1B\n",
      "    INPUT -> each XOR -2147483648 as each -> INPUT_31L\n",
      "    INPUT -> each >> 31 as each -> INPUT_1B\n",
      "    (INPUT_31L,MASK_1B) -> each ≠ 1236687273 then each -> OUTPUT\n",
      "    (INPUT_1B,MASK_1B) -> each = -2147483648 then each -> OUTPUT\n",
      "}\n",
      "\u001b[33mINPUT  = {'X': 837554136}\u001b[0m\n",
      "\u001b[33mMASK   = {'X': -1294462028}\u001b[0m\n",
      "\u001b[33mOUTPUT = {'X': 837554136}\u001b[0m\n",
      "Whitelist(INPUT,MASK,OUTPUT) {\n",
      "    MASK -> 0 - each as each -> MASK_1B\n",
      "    MASK -> each + -2147483648 as each -> MASK_1B\n",
      "    INPUT -> each * 0 as each -> INPUT_31L\n",
      "    INPUT -> each >> 31 as each -> INPUT_1B\n",
      "    (INPUT_31L,MASK_1B) -> each {>,<,=,≥,≤,≠} const!5130 then each -> OUTPUT\n",
      "    (INPUT_1B,MASK_1B) -> each = -2147483648 then each -> OUTPUT\n",
      "}\n",
      "\u001b[33mINPUT  = {'X': -2147483643}\u001b[0m\n",
      "\u001b[33mMASK   = {'X': 287310374}\u001b[0m\n",
      "\u001b[33mOUTPUT = {'X': -2147483643}\u001b[0m\n",
      "Whitelist(INPUT,MASK,OUTPUT) {\n",
      "    MASK -> 0 - each as each -> MASK_1B\n",
      "    MASK -> each + -2147483648 as each -> MASK_1B\n",
      "    INPUT -> each AND 2046713853 as each -> INPUT_31L\n",
      "    INPUT -> each >> 31 as each -> INPUT_1B\n",
      "    (INPUT_31L,MASK_1B) -> each ≠ 2046713854 then each -> OUTPUT\n",
      "    (INPUT_1B,MASK_1B) -> each = -2147483648 then each -> OUTPUT\n",
      "}\n",
      "\u001b[33mINPUT  = {'X': 1631576060}\u001b[0m\n",
      "\u001b[33mMASK   = {'X': 930045952}\u001b[0m\n",
      "\u001b[33mOUTPUT = {'X': 1631576060}\u001b[0m\n",
      "Whitelist(INPUT,MASK,OUTPUT) {\n",
      "    MASK -> 0 - each as each -> MASK_1B\n",
      "    MASK -> each + -2147483648 as each -> MASK_1B\n",
      "    INPUT -> each AND 2046812157 as each -> INPUT_31L\n",
      "    INPUT -> each >> 31 as each -> INPUT_1B\n",
      "    (INPUT_31L,MASK_1B) -> each ≠ 2046812158 then each -> OUTPUT\n",
      "    (INPUT_1B,MASK_1B) -> each = -2147483648 then each -> OUTPUT\n",
      "}\n",
      "\u001b[33mINPUT  = {'X': 703520511}\u001b[0m\n",
      "\u001b[33mMASK   = {'X': -1632760418}\u001b[0m\n",
      "\u001b[33mOUTPUT = {'X': 703520511}\u001b[0m\n",
      "Whitelist(INPUT,MASK,OUTPUT) {\n",
      "    MASK -> 0 - each as each -> MASK_1B\n",
      "    MASK -> each + -2147483648 as each -> MASK_1B\n",
      "    INPUT -> each AND 2046812159 as each -> INPUT_31L\n",
      "    INPUT -> each >> 31 as each -> INPUT_1B\n",
      "    (INPUT_31L,MASK_1B) -> each ≠ 2046812158 then each -> OUTPUT\n",
      "    (INPUT_1B,MASK_1B) -> each = -2147483648 then each -> OUTPUT\n",
      "}\n",
      "\u001b[33mINPUT  = {'X': -1981291795}\u001b[0m\n",
      "\u001b[33mMASK   = {'X': 1022310607}\u001b[0m\n",
      "\u001b[33mOUTPUT = {'X': -1981291795}\u001b[0m\n",
      "Whitelist(INPUT,MASK,OUTPUT) {\n",
      "    MASK -> 0 - each as each -> MASK_1B\n",
      "    MASK -> each + -2147483648 as each -> MASK_1B\n",
      "    INPUT -> each AND 2113929215 as each -> INPUT_31L\n",
      "    INPUT -> each >> 31 as each -> INPUT_1B\n",
      "    (INPUT_31L,MASK_1B) -> each ≠ 2046820350 then each -> OUTPUT\n",
      "    (INPUT_1B,MASK_1B) -> each = -2147483648 then each -> OUTPUT\n",
      "}\n",
      "\u001b[33mINPUT  = {'X': -4}\u001b[0m\n",
      "\u001b[33mMASK   = {'X': -1849688066}\u001b[0m\n",
      "\u001b[33mOUTPUT = {'X': -4}\u001b[0m\n",
      "Whitelist(INPUT,MASK,OUTPUT) {\n",
      "    MASK -> 0 - each as each -> MASK_1B\n",
      "    MASK -> each + -2147483648 as each -> MASK_1B\n",
      "    INPUT -> each AND 2147483647 as each -> INPUT_31L\n",
      "    INPUT -> each >> 31 as each -> INPUT_1B\n",
      "    (INPUT_31L,MASK_1B) -> each ≠ 2147483646 then each -> OUTPUT\n",
      "    (INPUT_1B,MASK_1B) -> each = -2147483648 then each -> OUTPUT\n",
      "}\n",
      "\u001b[33mINPUT  = {'X': -1596719072}\u001b[0m\n",
      "\u001b[33mMASK   = {'X': 0}\u001b[0m\n",
      "\u001b[33mOUTPUT = {'X': 0}\u001b[0m\n",
      "Whitelist(INPUT,MASK,OUTPUT) {\n",
      "    MASK -> 0 - each as each -> MASK_1B\n",
      "    MASK -> each + -2147483648 as each -> MASK_1B\n",
      "    INPUT -> each AND 2147483647 as each -> INPUT_31L\n",
      "    INPUT -> each >> 31 as each -> INPUT_1B\n",
      "    (INPUT_31L,MASK_1B) -> each ≤ -3 then each -> OUTPUT\n",
      "    (INPUT_1B,MASK_1B) -> each = -2147483648 then each -> OUTPUT\n",
      "}\n",
      "\u001b[33mINPUT  = {'X': -1}\u001b[0m\n",
      "\u001b[33mMASK   = {'X': -2147483648}\u001b[0m\n",
      "\u001b[33mOUTPUT = {'X': -1}\u001b[0m\n",
      "Whitelist(INPUT,MASK,OUTPUT) {\n",
      "    MASK -> 0 - each as each -> MASK_1B\n",
      "    MASK -> each + -2147483648 as each -> MASK_1B\n",
      "    INPUT -> each AND 2147483647 as each -> INPUT_31L\n",
      "    INPUT -> each >> 31 as each -> INPUT_1B\n",
      "    (INPUT_31L,MASK_1B) -> each ≤ 272629757 then each -> OUTPUT\n",
      "    (INPUT_1B,MASK_1B) -> each = -2147483648 then each -> OUTPUT\n",
      "}\n",
      "\u001b[33mINPUT  = {'X': 9}\u001b[0m\n",
      "\u001b[33mMASK   = {'X': 0}\u001b[0m\n",
      "\u001b[33mOUTPUT = {'X': 0}\u001b[0m\n",
      "Whitelist(INPUT,MASK,OUTPUT) {\n",
      "    MASK -> 0 - each as each -> MASK_1B\n",
      "    MASK -> each + -2147483648 as each -> MASK_1B\n",
      "    INPUT -> each AND 2147483647 as each -> INPUT_31L\n",
      "    INPUT -> each >> 31 as each -> INPUT_1B\n",
      "    (INPUT_31L,MASK_1B) -> each ≤ 6 then each -> OUTPUT\n",
      "    (INPUT_1B,MASK_1B) -> each = -2147483648 then each -> OUTPUT\n",
      "}\n",
      "\u001b[33mINPUT  = {'X': 1}\u001b[0m\n",
      "\u001b[33mMASK   = {'X': 0}\u001b[0m\n",
      "\u001b[33mOUTPUT = {'X': 0}\u001b[0m\n",
      "Whitelist(INPUT,MASK,OUTPUT) {\n",
      "    MASK -> 0 - each as each -> MASK_1B\n",
      "    MASK -> each + -2147483648 as each -> MASK_1B\n",
      "    INPUT -> each AND 2147483647 as each -> INPUT_31L\n",
      "    INPUT -> each >> 31 as each -> INPUT_1B\n",
      "    (INPUT_31L,MASK_1B) -> each < 0 then each -> OUTPUT\n",
      "    (INPUT_1B,MASK_1B) -> each = -2147483648 then each -> OUTPUT\n",
      "}\n",
      "\u001b[32mNo more counterexamples!\u001b[0m\n"
     ]
    }
   ],
   "source": [
    "while True:\n",
    "\n",
    "    # solve from examples\n",
    "    solver = z3.Solver()\n",
    "    solver.set('threads', 4)\n",
    "    solver.set(unsat_core=True)\n",
    "    for combinator in combinators_sketch: solver.add(combinator.valid)\n",
    "    for example in examples:\n",
    "        INPUT, MASK, OUTPUT = example\n",
    "        ANS = circuit(INPUT, MASK, combinators=combinators_sketch,\n",
    "            solver=solver,\n",
    "        )\n",
    "        solver.add(ANS==OUTPUT)\n",
    "\n",
    "    check = solver.check()\n",
    "    assert check == z3.sat, f\"solution is {check}, unsat_core={solver.unsat_core()}\"\n",
    "    model = solver.model()\n",
    "    # print(model)\n",
    "\n",
    "    combinators_sol = [combinator.eval(model) for combinator in combinators_sketch]\n",
    "    print(cnide_sketch.format(*[combinator.to_cnide() for combinator in combinators_sol]))\n",
    "\n",
    "    # generate counter-example\n",
    "    solver2 = z3.Solver()\n",
    "    INPUT, MASK, OUTPUT = spec\n",
    "    ANS = circuit(INPUT, MASK, combinators=combinators_sol,\n",
    "        # solver=solver,\n",
    "    )\n",
    "    guarantee = ANS==OUTPUT\n",
    "    solver2.add(z3.Not(guarantee)) # trying to find counterexamples\n",
    "    check = solver2.check()\n",
    "    if check == z3.unsat:\n",
    "        cprint(\"No more counterexamples!\", color='green')\n",
    "        break\n",
    "    elif check == z3.sat:\n",
    "        model2 = solver2.model()\n",
    "        # print(model2)\n",
    "        counterexample = tuple(\n",
    "            Register((signal,model2.eval(count,model_completion=True)) for signal,count in reg.items())\n",
    "            for reg in spec\n",
    "        )\n",
    "        examples.append(counterexample)\n",
    "        INPUT, MASK, OUTPUT = counterexample\n",
    "        cprint(f\"\"\"INPUT  = {INPUT.simplify(bv2int=True)}\"\"\", color='yellow')\n",
    "        cprint(f\"\"\"MASK   = {MASK.simplify(bv2int=True)}\"\"\", color='yellow')\n",
    "        cprint(f\"\"\"OUTPUT = {OUTPUT.simplify(bv2int=True)}\"\"\", color='yellow')"
   ]
  },
  {
   "attachments": {},
   "cell_type": "markdown",
   "metadata": {},
   "source": [
    "## Example: `Whitelist` (connections)"
   ]
  },
  {
   "cell_type": "markdown",
   "metadata": {},
   "source": [
    "The ground truth is:\n",
    "> ```c\n",
    "> Whitelist(INPUT,MASK,OUTPUT) {\n",
    ">     // set the filter to -2^31 for **each** signal on MASK\n",
    ">     MASK -> 0 - each as each -> MASK_1B\n",
    ">     MASK -> each + -2147483648 as each -> MASK_1B\n",
    ">     \n",
    ">     // filter the 31 least significant bits\n",
    ">     INPUT -> each & 2147483647 as each -> INPUT_31L\n",
    ">     (INPUT_31L,MASK_1B) -> each < 0 then each -> OUTPUT\n",
    ">     \n",
    ">     // correct the 1 most significant bit\n",
    ">     INPUT -> each >> 31 as each -> INPUT_1B\n",
    ">     (INPUT_1B,MASK_1B) -> each = -2147483648 then each -> OUTPUT\n",
    "> }\n",
    "> ```"
   ]
  },
  {
   "attachments": {},
   "cell_type": "markdown",
   "metadata": {},
   "source": [
    "We assume here that the wire connections are unknown. This is roughly:\n",
    "> ```c\n",
    "> Whitelist(INPUT,MASK,OUTPUT) {\n",
    ">     (??,??)  ->  0 - each as each             ->  (??,??)\n",
    ">     (??,??)  ->  each + -2147483648 as each   ->  (??,??) \n",
    ">     (??,??)  ->  each & 2147483647 as each    ->  (??,??) \n",
    ">     (??,??)  ->  each >> 31 as each           ->  (??,??) \n",
    ">     (??,??)  ->  each < 0 then each           ->  (??,??) \n",
    ">     (??,??)  ->  each = -2147483648 then each ->  (??,??) \n",
    "> }\n",
    "> ```"
   ]
  },
  {
   "attachments": {},
   "cell_type": "markdown",
   "metadata": {},
   "source": [
    "Whitelist(INPUT,MASK,OUTPUT) {\n",
    "    MASK                -> ?in1 ?op  ?in2 as   ?out -> MASK_1B\n",
    "    MASK                -> ?in1 ?op  ?in2 as   ?out -> MASK_1B\n",
    "    INPUT               -> ?in1 ?op  ?in2 as   ?out -> INPUT_31L\n",
    "    INPUT               -> ?in1 ?op  ?in2 as   ?out -> INPUT_1B\n",
    "    (INPUT_31L,MASK_1B) -> ?in1 ?cmp ?in2 then ?out -> OUTPUT\n",
    "    (INPUT_1B,MASK_1B)  -> ?in1 ?cmp ?in2 then ?out -> OUTPUT\n",
    "}\n",
    "Whitelist(INPUT,MASK,OUTPUT) {\n",
    "    (??,??)  ->  0    -  each        as   each  ->  (??,??)\n",
    "    (??,??)  ->  each +  -2147483648 as   each  ->  (??,??) \n",
    "    (??,??)  ->  each &  2147483647  as   each  ->  (??,??) \n",
    "    (??,??)  ->  each >> 31          as   each  ->  (??,??) \n",
    "    (??,??)  ->  each <  0           then each  ->  (??,??) \n",
    "    (??,??)  ->  each = -2147483648  then each  ->  (??,??) \n",
    "}"
   ]
  },
  {
   "cell_type": "code",
   "execution_count": 102,
   "metadata": {},
   "outputs": [],
   "source": [
    "# specification\n",
    "p_in, p_mask = params = z3.Consts(f'COUNT:in, COUNT:mask', Int32Sort)\n",
    "p1, = z3.Consts(f'COUNT:p1', Int32Sort)\n",
    "spec = (\n",
    "    Register(X=p_in),                       # INPUT\n",
    "    Register(X=p_mask),                     # MASK\n",
    "    Register(X=z3.If(p_mask!=0, p_in, 0)),  # OUTPUT\n",
    ")"
   ]
  },
  {
   "cell_type": "code",
   "execution_count": 91,
   "metadata": {},
   "outputs": [],
   "source": [
    "# sketch\n",
    "\n",
    "combinators_sketch = [ # solution\n",
    "    ArithmeticControlBehavior(0,'-',EACH,EACH),\n",
    "    ArithmeticControlBehavior(EACH,'+',-2**31,EACH),\n",
    "    ArithmeticControlBehavior(EACH,'AND',2**31-1,EACH),\n",
    "    ArithmeticControlBehavior(EACH,'>>',31,EACH),\n",
    "    DeciderControlBehavior(EACH,'<',0,EACH,True),\n",
    "    DeciderControlBehavior(EACH,'=',-2**31,EACH,True),\n",
    "]\n",
    "wires = [\n",
    "    'INPUT',\n",
    "    'MASK',\n",
    "    'OUTPUT',\n",
    "    'INTERNAL1',\n",
    "    'INTERNAL2',\n",
    "    'INTERNAL3',\n",
    "]\n",
    "\n",
    "# wire_color_sketch = { # wire_color_sketch[wire]       # TODO: consider wire color as well\n",
    "#     wire: Choice(red=1, green=2)\n",
    "#     for wire in wires\n",
    "# }\n",
    "connect_sketch = { # connect[wire][combinator][connection_point]\n",
    "    wire: [\n",
    "        {\n",
    "            1: z3.FreshConst(z3.BoolSort(), f'{wire}->combinators[{c}]'), # input\n",
    "            2: z3.FreshConst(z3.BoolSort(), f'combinators[{c}]->{wire}'), # output\n",
    "        }\n",
    "        for c,combinator in enumerate(combinators_sketch)\n",
    "    ]\n",
    "    for wire in wires\n",
    "}\n",
    "# TODO: constrain connect_sketch: {connect[W][C][CP] : W}<=2 :- C, CP.\n",
    "\n",
    "def compute_tick(\n",
    "    reg_wires:'list[Register]',\n",
    "    combinators:'list[ControlBehavior]',\n",
    "    connect:'dict[str,list[dict[int,z3.BoolRef]]]',\n",
    "    *,\n",
    "    solver=None,\n",
    "):\n",
    "    \"\"\"compute one tick of the circuit\"\"\"\n",
    "    reg_combinators_input = [\n",
    "        Register.sum(*[\n",
    "            reg_wire & connect_sketch[wire][c][1]\n",
    "            for wire, reg_wire in zip(wires, reg_wires)\n",
    "        ])\n",
    "        for c,combinator in enumerate(combinators)\n",
    "    ]\n",
    "    if solver is not None:\n",
    "        for c,ans in enumerate(reg_combinators_input):\n",
    "            out = Register.fromkeys(ans)\n",
    "            solver.add(out==ans)\n",
    "            reg_combinators_input[c] = out\n",
    "    \n",
    "    reg_combinators_output = [\n",
    "        combinator(input, solver=solver)\n",
    "        for combinator, input in zip(combinators, reg_combinators_input)\n",
    "    ]\n",
    "    \n",
    "    reg_wires_next = [\n",
    "        Register.sum(*[\n",
    "            reg_combinator_output & connect_sketch[wire][c][2]\n",
    "            for c,reg_combinator_output in enumerate(reg_combinators_output)\n",
    "        ])\n",
    "        for wire in wires\n",
    "    ]\n",
    "    if solver is not None:\n",
    "        for c,ans in enumerate(reg_wires_next):\n",
    "            out = Register.fromkeys(ans)\n",
    "            solver.add(out==ans)\n",
    "            reg_wires_next[c] = out\n",
    "    \n",
    "    return reg_wires_next\n",
    "def circuit(INPUT, MASK, delay=2, *, combinators, connect, solver=None):\n",
    "    reg_wires = [\n",
    "        INPUT  if wire=='INPUT' else\n",
    "        MASK   if wire=='MASK' else\n",
    "        Register()\n",
    "        for wire in wires\n",
    "    ]\n",
    "    for tick in range(delay):\n",
    "        reg_wires = compute_tick(reg_wires, combinators, connect, solver=solver)\n",
    "    OUTPUT = reg_wires[wires.index('OUTPUT')]\n",
    "    return OUTPUT"
   ]
  },
  {
   "cell_type": "code",
   "execution_count": 78,
   "metadata": {},
   "outputs": [
    {
     "name": "stdout",
     "output_type": "stream",
     "text": [
      "\u001b[34mUpper bound of possible combinator behaviors (to numeric constant):\u001b[0m\n",
      "point connections: 4.72e+21\n"
     ]
    }
   ],
   "source": [
    "cprint(\"Upper bound of possible combinator behaviors (to numeric constant):\", color='blue')\n",
    "print(f\"point connections: {2**( len(wires) * len(combinators_sketch) * len([1,2]) ):.2e}\")"
   ]
  },
  {
   "cell_type": "code",
   "execution_count": 80,
   "metadata": {},
   "outputs": [],
   "source": [
    "examples = [\n",
    "    # (INPUT, MASK, OUTPUT),\n",
    "    (Register(A=50,B=40,C=30,D=-10,E=-20), Register(A=1,C=7,E=-3), Register(A=50,C=30,E=-20)),\n",
    "]"
   ]
  },
  {
   "cell_type": "markdown",
   "metadata": {},
   "source": [
    "### example-driven"
   ]
  },
  {
   "cell_type": "code",
   "execution_count": 92,
   "metadata": {},
   "outputs": [
    {
     "ename": "",
     "evalue": "",
     "output_type": "error",
     "traceback": [
      "\u001b[1;31mCanceled future for execute_request message before replies were done"
     ]
    },
    {
     "ename": "",
     "evalue": "",
     "output_type": "error",
     "traceback": [
      "\u001b[1;31mThe Kernel crashed while executing code in the the current cell or a previous cell. Please review the code in the cell(s) to identify a possible cause of the failure. Click <a href='https://aka.ms/vscodeJupyterKernelCrash'>here</a> for more info. View Jupyter <a href='command:jupyter.viewOutput'>log</a> for further details."
     ]
    }
   ],
   "source": [
    "# solve from examples\n",
    "\n",
    "solver = z3.Solver()\n",
    "solver.set('threads', 4)\n",
    "solver.set(unsat_core=True)\n",
    "for combinator in combinators_sketch: solver.add(combinator.valid)\n",
    "for example in examples:\n",
    "    INPUT, MASK, OUTPUT = example\n",
    "    ANS = circuit(INPUT, MASK, combinators=combinators_sketch, connect=connect_sketch,\n",
    "        solver=solver,\n",
    "    )\n",
    "    solver.add(ANS==OUTPUT)\n",
    "\n",
    "check = solver.check()\n",
    "assert check == z3.sat, f\"solution is {check}, unsat_core={solver.unsat_core()}\"\n",
    "model = solver.model()\n",
    "# print(model)\n",
    "\n",
    "combinators_sol = [combinator.eval(model) for combinator in combinators_sketch]\n",
    "connect_sol = { # connect[wire][combinator][connection_point]\n",
    "    wire: [\n",
    "        {\n",
    "            cp: model.eval(connect_wire_c_cp)\n",
    "            for cp,connect_wire_c_cp in connect_wire_c.items()\n",
    "        }\n",
    "        for connect_wire_c in connect_wire\n",
    "    ]\n",
    "    for wire,connect_wire in connect_sketch.items()\n",
    "}\n",
    "\n",
    "# print solved sketch\n",
    "for c,combinator in enumerate(combinators_sketch):\n",
    "    inputs = tuple(\n",
    "        wire\n",
    "        for wire in wires\n",
    "        if connect_sol[wire][c][1]\n",
    "    )\n",
    "    outputs = tuple(\n",
    "        wire\n",
    "        for wire in wires\n",
    "        if connect_sol[wire][c][1]\n",
    "    )\n",
    "    if len(inputs)==1: inputs = inputs[0]\n",
    "    if len(outputs)==1: outputs = outputs[0]\n",
    "    print(f\"{inputs} -> {combinator.to_cnide()} -> {outputs}\")"
   ]
  }
 ],
 "metadata": {
  "kernelspec": {
   "display_name": "Python 3",
   "language": "python",
   "name": "python3"
  },
  "language_info": {
   "codemirror_mode": {
    "name": "ipython",
    "version": 3
   },
   "file_extension": ".py",
   "mimetype": "text/x-python",
   "name": "python",
   "nbconvert_exporter": "python",
   "pygments_lexer": "ipython3",
   "version": "3.6.9"
  },
  "orig_nbformat": 4
 },
 "nbformat": 4,
 "nbformat_minor": 2
}
